{
 "cells": [
  {
   "cell_type": "markdown",
   "metadata": {},
   "source": [
    "Importing the needed libraries"
   ]
  },
  {
   "cell_type": "code",
   "execution_count": 1,
   "metadata": {},
   "outputs": [],
   "source": [
    "import numpy as np\n",
    "import matplotlib.pyplot as plt\n",
    "import h5py\n",
    "import scipy\n",
    "from PIL import Image\n",
    "from scipy import ndimage\n",
    "\n",
    "%matplotlib inline"
   ]
  },
  {
   "cell_type": "markdown",
   "metadata": {},
   "source": [
    "Loading the cat non cat dataset file\n"
   ]
  },
  {
   "cell_type": "code",
   "execution_count": 2,
   "metadata": {},
   "outputs": [],
   "source": [
    "def load_dataset():\n",
    "    train_dataset = h5py.File('datasets/train_catvnoncat.h5', \"r\")\n",
    "    train_set_x_orig = np.array(train_dataset[\"train_set_x\"][:]) # your train set features\n",
    "    train_set_y_orig = np.array(train_dataset[\"train_set_y\"][:]) # your train set labels\n",
    "\n",
    "    test_dataset = h5py.File('datasets/test_catvnoncat.h5', \"r\")\n",
    "    test_set_x_orig = np.array(test_dataset[\"test_set_x\"][:]) # your test set features\n",
    "    test_set_y_orig = np.array(test_dataset[\"test_set_y\"][:]) # your test set labels\n",
    "\n",
    "    classes = np.array(test_dataset[\"list_classes\"][:]) # the list of classes\n",
    "    \n",
    "    train_set_y_orig = train_set_y_orig.reshape((1, train_set_y_orig.shape[0]))\n",
    "    test_set_y_orig = test_set_y_orig.reshape((1, test_set_y_orig.shape[0]))\n",
    "    \n",
    "    return train_set_x_orig, train_set_y_orig, test_set_x_orig, test_set_y_orig, classes"
   ]
  },
  {
   "cell_type": "code",
   "execution_count": 3,
   "metadata": {},
   "outputs": [],
   "source": [
    "# Loading the data (cat/non-cat)\n",
    "train_set_x_orig, train_set_y, test_set_x_orig, test_set_y, classes = load_dataset()"
   ]
  },
  {
   "cell_type": "code",
   "execution_count": 4,
   "metadata": {},
   "outputs": [
    {
     "name": "stdout",
     "output_type": "stream",
     "text": [
      "y = [0], it's a 'non-cat' picture.\n"
     ]
    },
    {
     "data": {
      "image/png": "[encoded data removed]",
      "text/plain": [
       "<Figure size 432x288 with 1 Axes>"
      ]
     },
     "metadata": {
      "needs_background": "light"
     },
     "output_type": "display_data"
    }
   ],
   "source": [
    "# Example of a picture\n",
    "index = np.random.randint(17, 34)\n",
    "plt.imshow(train_set_x_orig[index])\n",
    "print (\"y = \" + str(train_set_y[:, index]) + \", it's a '\" + classes[np.squeeze(train_set_y[:, index])].decode(\"utf-8\") +  \"' picture.\")"
   ]
  },
  {
   "cell_type": "code",
   "execution_count": 5,
   "metadata": {},
   "outputs": [],
   "source": [
    "training_ex = train_set_x_orig.shape[0]\n",
    "test_ex = test_set_x_orig.shape[0]\n",
    "pixel_size = train_set_x_orig.shape[1]"
   ]
  },
  {
   "cell_type": "code",
   "execution_count": 6,
   "metadata": {},
   "outputs": [
    {
     "name": "stdout",
     "output_type": "stream",
     "text": [
      "Number of training examples = 209\n",
      "Number of testing examples = 50\n",
      "Height to width is 64\n",
      "Each image is of (64, 64, 3) structure\n",
      "trai_x shape = (209, 64, 64, 3)\n",
      "Test_x shape = (50, 64, 64, 3)\n",
      "Train_y shape = (1, 209)\n",
      "test_y shape = (1, 50)\n"
     ]
    }
   ],
   "source": [
    "print(f\"Number of training examples = {training_ex}\")\n",
    "print(f\"Number of testing examples = {test_ex}\")\n",
    "print(f\"Height to width is {pixel_size}\")\n",
    "print(f\"Each image is of ({pixel_size}, {pixel_size}, 3) structure\")\n",
    "print(f\"trai_x shape = {train_set_x_orig.shape}\")\n",
    "print(f\"Test_x shape = {test_set_x_orig.shape}\")\n",
    "print(f\"Train_y shape = {train_set_y.shape}\")\n",
    "print(f\"test_y shape = {test_set_y.shape}\")"
   ]
  },
  {
   "cell_type": "code",
   "execution_count": 7,
   "metadata": {},
   "outputs": [],
   "source": [
    "train_set_x_flatten = train_set_x_orig.reshape(train_set_x_orig.shape[0],-1).T\n",
    "test_set_x_flatten =  test_set_x_orig.reshape(test_set_x_orig.shape[0],-1).T"
   ]
  },
  {
   "cell_type": "code",
   "execution_count": 8,
   "metadata": {},
   "outputs": [
    {
     "name": "stdout",
     "output_type": "stream",
     "text": [
      "Number of training examples = 209\n",
      "Number of testing examples = 50\n",
      "Height to width is 64\n",
      "Each image is of (64, 64, 3) structure\n",
      "trai_x shape = (12288, 209)\n",
      "Test_x shape = (12288, 50)\n",
      "Train_y shape = (1, 209)\n",
      "test_y shape = (1, 50)\n"
     ]
    }
   ],
   "source": [
    "print(f\"Number of training examples = {training_ex}\")\n",
    "print(f\"Number of testing examples = {test_ex}\")\n",
    "print(f\"Height to width is {pixel_size}\")\n",
    "print(f\"Each image is of ({pixel_size}, {pixel_size}, 3) structure\")\n",
    "print(f\"trai_x shape = {train_set_x_flatten.shape}\")\n",
    "print(f\"Test_x shape = {test_set_x_flatten.shape}\")\n",
    "print(f\"Train_y shape = {train_set_y.shape}\")\n",
    "print(f\"test_y shape = {test_set_y.shape}\")"
   ]
  },
  {
   "cell_type": "markdown",
   "metadata": {},
   "source": [
    "Standardizing the dataset"
   ]
  },
  {
   "cell_type": "code",
   "execution_count": 9,
   "metadata": {},
   "outputs": [],
   "source": [
    "train_set_x = train_set_x_flatten/255.\n",
    "test_set_x = test_set_x_flatten/255."
   ]
  },
  {
   "cell_type": "markdown",
   "metadata": {},
   "source": [
    "Defining the sigmoid function"
   ]
  },
  {
   "cell_type": "code",
   "execution_count": 10,
   "metadata": {},
   "outputs": [],
   "source": [
    "def sigmoid(x):\n",
    "    return 1/(1 + np.exp(-x))"
   ]
  },
  {
   "cell_type": "code",
   "execution_count": 11,
   "metadata": {},
   "outputs": [],
   "source": [
    "# Initializing parameters\n",
    "def initialize(dimen):\n",
    "    weight = np.zeros((dimen, 1))\n",
    "    bias = 0.0\n",
    "\n",
    "    return weight, bias"
   ]
  },
  {
   "cell_type": "markdown",
   "metadata": {},
   "source": [
    "First forward and backward propagation of the network"
   ]
  },
  {
   "cell_type": "code",
   "execution_count": 12,
   "metadata": {},
   "outputs": [],
   "source": [
    "def forward(X, y, weight, bias):\n",
    "    examples = X.shape[1]\n",
    "    prop = sigmoid(np.dot(weight.T, X) +bias)\n",
    "    \n",
    "    cost = -(np.sum(y * (np.log(prop)) + (1-y) * (np.log(1-prop))))/examples\n",
    "\n",
    "    # Backward prop finding gradients(derivatives)\n",
    "\n",
    "    dz = (prop - y)/ examples\n",
    "    dw = np.dot(X, dz.T)\n",
    "    db = np.sum(dz)\n",
    "\n",
    "    cost = np.squeeze(cost)\n",
    "\n",
    "    gradients = {\n",
    "        \"dweight\": dw,\n",
    "        \"dbias\" : db, \n",
    "    }\n",
    "\n",
    "    return cost, gradients"
   ]
  },
  {
   "cell_type": "code",
   "execution_count": 30,
   "metadata": {},
   "outputs": [],
   "source": [
    "# Optimization and running more iterations\n",
    "\n",
    "def optimize(X, y, weights, bias, num_iter, lr, print_cost=False):\n",
    "    costs = []\n",
    "\n",
    "    for n in range(num_iter):\n",
    "        cost, grads = forward(X, y, weights, bias)\n",
    "\n",
    "        db = grads['dbias']\n",
    "        dw = grads['dweight']\n",
    "\n",
    "        # update weights and bias\n",
    "        bias = bias - (lr * db)\n",
    "        weights = weights - (lr * dw)\n",
    "\n",
    "        updated_params = {\n",
    "            \"weights\": weights,\n",
    "            \"bias\" : bias,\n",
    "        }\n",
    "        updated_grads = {\n",
    "            \"dweights\": dw,\n",
    "            \"dbias\" : db,\n",
    "        }\n",
    "        # Keeping track of the cost\n",
    "\n",
    "        if n % 100 == 0:\n",
    "            costs.append(cost)\n",
    "        \n",
    "        #printing Cost\n",
    "        if print_cost and n % 100 == 0:\n",
    "            print(f\"Iteration {n} the cost is {cost}\")\n",
    "\n",
    "    return updated_params, updated_grads, costs"
   ]
  },
  {
   "cell_type": "code",
   "execution_count": null,
   "metadata": {},
   "outputs": [],
   "source": []
  }
 ],
 "metadata": {
  "kernelspec": {
   "display_name": "Python 3.10.4 64-bit",
   "language": "python",
   "name": "python3"
  },
  "language_info": {
   "codemirror_mode": {
    "name": "ipython",
    "version": 3
   },
   "file_extension": ".py",
   "mimetype": "text/x-python",
   "name": "python",
   "nbconvert_exporter": "python",
   "pygments_lexer": "ipython3",
   "version": "3.10.4"
  },
  "orig_nbformat": 4,
  "vscode": {
   "interpreter": {
    "hash": "4f946df053fbf2b937619d3c5458e7af74262f9a954d8797ba0b27400bcafe06"
   }
  }
 },
 "nbformat": 4,
 "nbformat_minor": 2
}
