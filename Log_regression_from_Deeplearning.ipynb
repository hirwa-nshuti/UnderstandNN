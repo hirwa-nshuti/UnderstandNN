{
 "cells": [
  {
   "cell_type": "markdown",
   "metadata": {},
   "source": [
    "Importing the needed libraries"
   ]
  },
  {
   "cell_type": "code",
   "execution_count": 25,
   "metadata": {},
   "outputs": [],
   "source": [
    "import numpy as np\n",
    "import matplotlib.pyplot as plt\n",
    "import h5py\n",
    "import scipy\n",
    "from PIL import Image\n",
    "from scipy import ndimage\n",
    "\n",
    "%matplotlib inline"
   ]
  },
  {
   "cell_type": "markdown",
   "metadata": {},
   "source": [
    "Loading the cat non cat dataset file\n"
   ]
  },
  {
   "cell_type": "code",
   "execution_count": 26,
   "metadata": {},
   "outputs": [],
   "source": [
    "def load_dataset():\n",
    "    train_dataset = h5py.File('datasets/train_catvnoncat.h5', \"r\")\n",
    "    train_set_x_orig = np.array(train_dataset[\"train_set_x\"][:]) # your train set features\n",
    "    train_set_y_orig = np.array(train_dataset[\"train_set_y\"][:]) # your train set labels\n",
    "\n",
    "    test_dataset = h5py.File('datasets/test_catvnoncat.h5', \"r\")\n",
    "    test_set_x_orig = np.array(test_dataset[\"test_set_x\"][:]) # your test set features\n",
    "    test_set_y_orig = np.array(test_dataset[\"test_set_y\"][:]) # your test set labels\n",
    "\n",
    "    classes = np.array(test_dataset[\"list_classes\"][:]) # the list of classes\n",
    "    \n",
    "    train_set_y_orig = train_set_y_orig.reshape((1, train_set_y_orig.shape[0]))\n",
    "    test_set_y_orig = test_set_y_orig.reshape((1, test_set_y_orig.shape[0]))\n",
    "    \n",
    "    return train_set_x_orig, train_set_y_orig, test_set_x_orig, test_set_y_orig, classes"
   ]
  },
  {
   "cell_type": "code",
   "execution_count": 27,
   "metadata": {},
   "outputs": [],
   "source": [
    "# Loading the data (cat/non-cat)\n",
    "train_set_x_orig, train_set_y, test_set_x_orig, test_set_y, classes = load_dataset()"
   ]
  },
  {
   "cell_type": "code",
   "execution_count": 28,
   "metadata": {},
   "outputs": [
    {
     "name": "stdout",
     "output_type": "stream",
     "text": [
      "y = [0], it's a 'non-cat' picture.\n"
     ]
    },
    {
     "data": {
      "image/png": "[encoded data removed]",
      "text/plain": [
       "<Figure size 432x288 with 1 Axes>"
      ]
     },
     "metadata": {
      "needs_background": "light"
     },
     "output_type": "display_data"
    }
   ],
   "source": [
    "# Example of a picture\n",
    "index = np.random.randint(17, 34)\n",
    "plt.imshow(train_set_x_orig[index])\n",
    "print (\"y = \" + str(train_set_y[:, index]) + \", it's a '\" + classes[np.squeeze(train_set_y[:, index])].decode(\"utf-8\") +  \"' picture.\")"
   ]
  },
  {
   "cell_type": "code",
   "execution_count": 29,
   "metadata": {},
   "outputs": [],
   "source": [
    "training_ex = train_set_x_orig.shape[0]\n",
    "test_ex = test_set_x_orig.shape[0]\n",
    "pixel_size = train_set_x_orig.shape[1]"
   ]
  },
  {
   "cell_type": "code",
   "execution_count": 30,
   "metadata": {},
   "outputs": [
    {
     "name": "stdout",
     "output_type": "stream",
     "text": [
      "Number of training examples = 209\n",
      "Number of testing examples = 50\n",
      "Height to width is 64\n",
      "Each image is of (64, 64, 3) structure\n",
      "trai_x shape = (209, 64, 64, 3)\n",
      "Test_x shape = (50, 64, 64, 3)\n",
      "Train_y shape = (1, 209)\n",
      "test_y shape = (1, 50)\n"
     ]
    }
   ],
   "source": [
    "print(f\"Number of training examples = {training_ex}\")\n",
    "print(f\"Number of testing examples = {test_ex}\")\n",
    "print(f\"Height to width is {pixel_size}\")\n",
    "print(f\"Each image is of ({pixel_size}, {pixel_size}, 3) structure\")\n",
    "print(f\"trai_x shape = {train_set_x_orig.shape}\")\n",
    "print(f\"Test_x shape = {test_set_x_orig.shape}\")\n",
    "print(f\"Train_y shape = {train_set_y.shape}\")\n",
    "print(f\"test_y shape = {test_set_y.shape}\")"
   ]
  },
  {
   "cell_type": "code",
   "execution_count": 31,
   "metadata": {},
   "outputs": [],
   "source": [
    "train_set_x_flatten = train_set_x_orig.reshape(train_set_x_orig.shape[0],-1).T\n",
    "test_set_x_flatten =  test_set_x_orig.reshape(test_set_x_orig.shape[0],-1).T"
   ]
  },
  {
   "cell_type": "code",
   "execution_count": 32,
   "metadata": {},
   "outputs": [
    {
     "name": "stdout",
     "output_type": "stream",
     "text": [
      "Number of training examples = 209\n",
      "Number of testing examples = 50\n",
      "Height to width is 64\n",
      "Each image is of (64, 64, 3) structure\n",
      "trai_x shape = (12288, 209)\n",
      "Test_x shape = (12288, 50)\n",
      "Train_y shape = (1, 209)\n",
      "test_y shape = (1, 50)\n"
     ]
    }
   ],
   "source": [
    "print(f\"Number of training examples = {training_ex}\")\n",
    "print(f\"Number of testing examples = {test_ex}\")\n",
    "print(f\"Height to width is {pixel_size}\")\n",
    "print(f\"Each image is of ({pixel_size}, {pixel_size}, 3) structure\")\n",
    "print(f\"trai_x shape = {train_set_x_flatten.shape}\")\n",
    "print(f\"Test_x shape = {test_set_x_flatten.shape}\")\n",
    "print(f\"Train_y shape = {train_set_y.shape}\")\n",
    "print(f\"test_y shape = {test_set_y.shape}\")"
   ]
  },
  {
   "cell_type": "markdown",
   "metadata": {},
   "source": [
    "Standardizing the dataset"
   ]
  },
  {
   "cell_type": "code",
   "execution_count": 33,
   "metadata": {},
   "outputs": [],
   "source": [
    "train_set_x = train_set_x_flatten/255.\n",
    "test_set_x = test_set_x_flatten/255."
   ]
  },
  {
   "cell_type": "markdown",
   "metadata": {},
   "source": [
    "Defining the sigmoid function"
   ]
  },
  {
   "cell_type": "code",
   "execution_count": 34,
   "metadata": {},
   "outputs": [],
   "source": [
    "def sigmoid(x):\n",
    "    return 1/(1 + np.exp(-x))"
   ]
  },
  {
   "cell_type": "code",
   "execution_count": 35,
   "metadata": {},
   "outputs": [],
   "source": [
    "# Initializing parameters\n",
    "def initialize(dimen):\n",
    "    weight = np.zeros((dimen, 1))\n",
    "    bias = 0.0\n",
    "\n",
    "    return weight, bias"
   ]
  },
  {
   "cell_type": "markdown",
   "metadata": {},
   "source": [
    "First forward and backward propagation of the network"
   ]
  },
  {
   "cell_type": "code",
   "execution_count": 36,
   "metadata": {},
   "outputs": [],
   "source": [
    "def forward(X, y, weight, bias):\n",
    "    examples = X.shape[1]\n",
    "    prop = sigmoid(np.dot(weight.T, X) +bias)\n",
    "    \n",
    "    cost = -(np.sum(y * (np.log(prop)) + (1-y) * (np.log(1-prop))))/examples\n",
    "\n",
    "    # Backward prop finding gradients(derivatives)\n",
    "\n",
    "    dz = (prop - y)/ examples\n",
    "    dw = np.dot(X, dz.T)\n",
    "    db = np.sum(dz)\n",
    "\n",
    "    cost = np.squeeze(cost)\n",
    "\n",
    "    gradients = {\n",
    "        \"dweight\": dw,\n",
    "        \"dbias\" : db, \n",
    "    }\n",
    "\n",
    "    return cost, gradients"
   ]
  },
  {
   "cell_type": "code",
   "execution_count": 37,
   "metadata": {},
   "outputs": [],
   "source": [
    "# Optimization and running more iterations\n",
    "\n",
    "def optimize(X, y, weights, bias, num_iter, lr, print_cost=False):\n",
    "    costs = []\n",
    "\n",
    "    for n in range(num_iter):\n",
    "        cost, grads = forward(X, y, weights, bias)\n",
    "\n",
    "        db = grads['dbias']\n",
    "        dw = grads['dweight']\n",
    "\n",
    "        # update weights and bias\n",
    "        bias = bias - (lr * db)\n",
    "        weights = weights - (lr * dw)\n",
    "\n",
    "        updated_params = {\n",
    "            \"weights\": weights,\n",
    "            \"bias\" : bias,\n",
    "        }\n",
    "        updated_grads = {\n",
    "            \"dweights\": dw,\n",
    "            \"dbias\" : db,\n",
    "        }\n",
    "        # Keeping track of the cost\n",
    "\n",
    "        if n % 100 == 0:\n",
    "            costs.append(cost)\n",
    "        \n",
    "        #printing Cost\n",
    "        if print_cost and n % 100 == 0:\n",
    "            print(f\"Iteration {n} the cost is {cost}\")\n",
    "\n",
    "    return updated_params, updated_grads, costs"
   ]
  },
  {
   "cell_type": "code",
   "execution_count": null,
   "outputs": [],
   "source": [
    "# Making predictions\n",
    "def predict(weights, bias, X):\n",
    "    data_examples = X.shape[1]\n",
    "    predictions = np.zeros((1, data_examples))\n",
    "    weights = weights.reshape(X.shape[0], 1)\n",
    "    \n",
    "    # Probabilities of a picture to contain a cat Image\n",
    "\n",
    "    prob_c = sigmoid(np.dot(weights.T, X) + bias)\n",
    "\n",
    "    predictions = 1. * (prob_c > 0.5)\n",
    "\n",
    "    assert(predictions.shape[1] == data_examples)\n",
    "\n",
    "    return predictions\n"
   ],
   "metadata": {
    "collapsed": false,
    "pycharm": {
     "name": "#%%\n"
    }
   }
  },
  {
   "cell_type": "code",
   "execution_count": null,
   "outputs": [],
   "source": [
    "w = np.array([[0.1124579],[0.23106775]])\n",
    "b = -0.3\n",
    "X = np.array([[1.,-1.1,-3.2],[1.2,2.,0.1]])\n",
    "print (f\"predictions = {(predict(w, b, X))}\")"
   ],
   "metadata": {
    "collapsed": false,
    "pycharm": {
     "name": "#%%\n"
    }
   }
  },
  {
   "cell_type": "code",
   "execution_count": null,
   "outputs": [],
   "source": [
    "# Compiling all the designed function in one model to have a full logistic regression as NN\n",
    "\n",
    "def model(X_train, y_train, X_test, y_test, num_iterations=100, learning_rate=0.6, print_cost=False):\n",
    "    weights, bias = initialize(X_train.shape[0])\n",
    "    parameters, _, cost = optimize(X_train, y_train, weights=weights, bias=bias, num_iter=num_iterations, lr=learning_rate, print_cost=print_cost)\n",
    "    upadted_weights = parameters['weights']\n",
    "    updated_bias = parameters['bias']\n",
    "    \n",
    "    # Predictions\n",
    "    y_prediction_train = predict(upadted_weights, updated_bias, X_train)\n",
    "    y_prediction_test = predict(upadted_weights, updated_bias, X_test)\n",
    "\n",
    "    # Calculating the prediction Error\n",
    "    print(f\"Accuracy on training examples = {100 - np.mean(np.abs(y_prediction_train - y_train)) * 100}\")\n",
    "    print(f\"Accuracy on test examples = {100 - np.mean(np.abs(y_prediction_test - y_test)) * 100}\")\n",
    "\n",
    "    compiled_model = {\n",
    "        'costs': cost,\n",
    "        'y_prediction_train' : y_prediction_train,\n",
    "        'y_prediction_test' : y_prediction_test,\n",
    "        'weights': upadted_weights,\n",
    "        'bias' : updated_bias,\n",
    "        'learning_rate' : learning_rate,\n",
    "        'num_iterations' : num_iterations,\n",
    "    }\n",
    "\n",
    "    return compiled_model"
   ],
   "metadata": {
    "collapsed": false,
    "pycharm": {
     "name": "#%%\n"
    }
   }
  },
  {
   "cell_type": "code",
   "execution_count": null,
   "outputs": [],
   "source": [
    "# training model\n",
    "mod = model(train_set_x, train_set_y, test_set_x, test_set_y, num_iterations=2000, learning_rate=0.006, print_cost=True)"
   ],
   "metadata": {
    "collapsed": false,
    "pycharm": {
     "name": "#%%\n"
    }
   }
  },
  {
   "cell_type": "code",
   "execution_count": null,
   "outputs": [],
   "source": [
    "# Plorring the accuracy curve\n",
    "\n",
    "costs = np.squeeze(mod['costs'])\n",
    "plt.plot(costs)\n",
    "plt.ylabel('cost')\n",
    "plt.xlabel('iterations (per hundreds)')\n",
    "plt.title(f\"Learning rate = {mod['learning_rate']}\")\n",
    "plt.show()"
   ],
   "metadata": {
    "collapsed": false,
    "pycharm": {
     "name": "#%%\n"
    }
   }
  },
  {
   "cell_type": "code",
   "execution_count": null,
   "outputs": [],
   "source": [
    "# Testing the model against different learning rates\n",
    "lrs = [2, 1, 0.11, 0.01, 0.001, 0.0001]\n",
    "mods = {}\n",
    "for l in lrs:\n",
    "    print(f\"The learning rate is {l}\")\n",
    "    mods[str(l)] = model(train_set_x, train_set_y, test_set_x, test_set_y, num_iterations = 1500, learning_rate = l, print_cost = False)\n",
    "    print ('\\n' + \"-------------------------------------------------------\" + '\\n')\n",
    "\n",
    "for i in lrs:\n",
    "    plt.plot(np.squeeze(mods[str(i)][\"costs\"]), label= str(mods[str(i)][\"learning_rate\"]))\n",
    "\n",
    "plt.ylabel('cost')\n",
    "plt.xlabel('iterations (hundreds)')\n",
    "\n",
    "legend = plt.legend(loc='upper center', shadow=True)\n",
    "frame = legend.get_frame()\n",
    "frame.set_facecolor('0.90')\n",
    "plt.show()"
   ],
   "metadata": {
    "collapsed": false,
    "pycharm": {
     "name": "#%%\n"
    }
   }
  },
  {
   "cell_type": "markdown",
   "source": [
    "References\n",
    "\n",
    "Deeplearning.AI course specialization(DLS) [DLS Coursera](https://www.coursera.org/specializations/deep-learning)"
   ],
   "metadata": {
    "collapsed": false,
    "pycharm": {
     "name": "#%% md\n"
    }
   }
  },
  {
   "cell_type": "code",
   "execution_count": 39,
   "metadata": {},
   "outputs": [
    {
     "name": "stdout",
     "output_type": "stream",
     "text": [
      "predictions = [[1. 1. 0.]]\n"
     ]
    }
   ],
   "source": [
    "w = np.array([[0.1124579],[0.23106775]])\n",
    "b = -0.3\n",
    "X = np.array([[1.,-1.1,-3.2],[1.2,2.,0.1]])\n",
    "print (f\"predictions = {(predict(w, b, X))}\")"
   ]
  },
  {
   "cell_type": "code",
   "execution_count": 40,
   "metadata": {},
   "outputs": [],
   "source": [
    "# Compiling all the designed function in one model to have a full logistic regression as NN\n",
    "\n",
    "def model(X_train, y_train, X_test, y_test, num_iterations=100, learning_rate=0.6, print_cost=False):\n",
    "    weights, bias = initialize(X_train.shape[0])\n",
    "    parameters, _, cost = optimize(X_train, y_train, weights=weights, bias=bias, num_iter=num_iterations, lr=learning_rate, print_cost=print_cost)\n",
    "    upadted_weights = parameters['weights']\n",
    "    updated_bias = parameters['bias']\n",
    "    \n",
    "    # Predictions\n",
    "    y_prediction_train = predict(upadted_weights, updated_bias, X_train)\n",
    "    y_prediction_test = predict(upadted_weights, updated_bias, X_test)\n",
    "\n",
    "    # Calculating the prediction Error\n",
    "    print(f\"Accuracy on training examples = {100 - np.mean(np.abs(y_prediction_train - y_train)) * 100}\")\n",
    "    print(f\"Accuracy on test examples = {100 - np.mean(np.abs(y_prediction_test - y_test)) * 100}\")\n",
    "\n",
    "    compiled_model = {\n",
    "        'costs': cost,\n",
    "        'y_prediction_train' : y_prediction_train,\n",
    "        'y_prediction_test' : y_prediction_test,\n",
    "        'weights': upadted_weights,\n",
    "        'bias' : updated_bias,\n",
    "        'learning_rate' : learning_rate,\n",
    "        'num_iterations' : num_iterations,\n",
    "    }\n",
    "\n",
    "    return compiled_model"
   ]
  },
  {
   "cell_type": "code",
   "execution_count": 42,
   "metadata": {},
   "outputs": [
    {
     "name": "stdout",
     "output_type": "stream",
     "text": [
      "Iteration 0 the cost is 0.6931471805599453\n",
      "Iteration 100 the cost is 0.6498112732446274\n",
      "Iteration 200 the cost is 0.5383118237783534\n",
      "Iteration 300 the cost is 0.4392616947889748\n",
      "Iteration 400 the cost is 0.3498247654306745\n",
      "Iteration 500 the cost is 0.2784984357971258\n",
      "Iteration 600 the cost is 0.2497640022987191\n",
      "Iteration 700 the cost is 0.23117767283922816\n",
      "Iteration 800 the cost is 0.21522905139235482\n",
      "Iteration 900 the cost is 0.2013388700395953\n",
      "Iteration 1000 the cost is 0.18910956153096206\n",
      "Iteration 1100 the cost is 0.17824871723940586\n",
      "Iteration 1200 the cost is 0.16853308291181376\n",
      "Iteration 1300 the cost is 0.1597878387174924\n",
      "Iteration 1400 the cost is 0.15187341507476668\n",
      "Iteration 1500 the cost is 0.14467661256301037\n",
      "Iteration 1600 the cost is 0.13810439358104684\n",
      "Iteration 1700 the cost is 0.13207941912877472\n",
      "Iteration 1800 the cost is 0.12653676617044216\n",
      "Iteration 1900 the cost is 0.1214214655660316\n",
      "Accuracy on training examples = 99.52153110047847\n",
      "Accuracy on test examples = 68.0\n"
     ]
    }
   ],
   "source": [
    "# training model\n",
    "mod = model(train_set_x, train_set_y, test_set_x, test_set_y, num_iterations=2000, learning_rate=0.006, print_cost=True)"
   ]
  },
  {
   "cell_type": "code",
   "execution_count": 43,
   "metadata": {},
   "outputs": [
    {
     "data": {
      "image/png": "[encoded data removed]",
      "text/plain": [
       "<Figure size 432x288 with 1 Axes>"
      ]
     },
     "metadata": {
      "needs_background": "light"
     },
     "output_type": "display_data"
    }
   ],
   "source": [
    "# Plorring the accuracy curve\n",
    "\n",
    "costs = np.squeeze(mod['costs'])\n",
    "plt.plot(costs)\n",
    "plt.ylabel('cost')\n",
    "plt.xlabel('iterations (per hundreds)')\n",
    "plt.title(f\"Learning rate = {mod['learning_rate']}\")\n",
    "plt.show()"
   ]
  },
  {
   "cell_type": "code",
   "execution_count": 47,
   "metadata": {},
   "outputs": [
    {
     "name": "stdout",
     "output_type": "stream",
     "text": [
      "The learning rate is 2\n"
     ]
    },
    {
     "name": "stderr",
     "output_type": "stream",
     "text": [
      "/tmp/ipykernel_9044/3886325312.py:2: RuntimeWarning: overflow encountered in exp\n",
      "  return 1/(1 + np.exp(-x))\n",
      "/tmp/ipykernel_9044/1028065672.py:5: RuntimeWarning: divide by zero encountered in log\n",
      "  cost = -(np.sum(y * (np.log(prop)) + (1-y) * (np.log(1-prop))))/examples\n",
      "/tmp/ipykernel_9044/1028065672.py:5: RuntimeWarning: invalid value encountered in multiply\n",
      "  cost = -(np.sum(y * (np.log(prop)) + (1-y) * (np.log(1-prop))))/examples\n"
     ]
    },
    {
     "name": "stdout",
     "output_type": "stream",
     "text": [
      "Accuracy on training examples = 100.0\n",
      "Accuracy on test examples = 72.0\n",
      "\n",
      "-------------------------------------------------------\n",
      "\n",
      "The learning rate is 1\n",
      "Accuracy on training examples = 100.0\n",
      "Accuracy on test examples = 72.0\n",
      "\n",
      "-------------------------------------------------------\n",
      "\n",
      "The learning rate is 0.11\n",
      "Accuracy on training examples = 100.0\n",
      "Accuracy on test examples = 68.0\n",
      "\n",
      "-------------------------------------------------------\n",
      "\n",
      "The learning rate is 0.01\n",
      "Accuracy on training examples = 99.52153110047847\n",
      "Accuracy on test examples = 68.0\n",
      "\n",
      "-------------------------------------------------------\n",
      "\n",
      "The learning rate is 0.001\n",
      "Accuracy on training examples = 88.99521531100478\n",
      "Accuracy on test examples = 64.0\n",
      "\n",
      "-------------------------------------------------------\n",
      "\n",
      "The learning rate is 0.0001\n",
      "Accuracy on training examples = 68.42105263157895\n",
      "Accuracy on test examples = 36.0\n",
      "\n",
      "-------------------------------------------------------\n",
      "\n"
     ]
    },
    {
     "data": {
      "image/png": "[encoded data removed]",
      "text/plain": [
       "<Figure size 432x288 with 1 Axes>"
      ]
     },
     "metadata": {
      "needs_background": "light"
     },
     "output_type": "display_data"
    }
   ],
   "source": [
    "# Testing the model against different learning rates\n",
    "lrs = [2, 1, 0.11, 0.01, 0.001, 0.0001]\n",
    "mods = {}\n",
    "for l in lrs:\n",
    "    print(f\"The learning rate is {l}\")\n",
    "    mods[str(l)] = model(train_set_x, train_set_y, test_set_x, test_set_y, num_iterations = 1500, learning_rate = l, print_cost = False)\n",
    "    print ('\\n' + \"-------------------------------------------------------\" + '\\n')\n",
    "\n",
    "for i in lrs:\n",
    "    plt.plot(np.squeeze(mods[str(i)][\"costs\"]), label= str(mods[str(i)][\"learning_rate\"]))\n",
    "\n",
    "plt.ylabel('cost')\n",
    "plt.xlabel('iterations (hundreds)')\n",
    "\n",
    "legend = plt.legend(loc='upper center', shadow=True)\n",
    "frame = legend.get_frame()\n",
    "frame.set_facecolor('0.90')\n",
    "plt.show()"
   ]
  },
  {
   "cell_type": "markdown",
   "metadata": {},
   "source": [
    "References\n",
    "\n",
    "Deeplearning.AI course specialization(DLS) [DLS Coursera](https://www.coursera.org/specializations/deep-learning)"
   ]
  }
 ],
 "metadata": {
  "kernelspec": {
   "display_name": "Python 3.10.4 64-bit",
   "language": "python",
   "name": "python3"
  },
  "language_info": {
   "codemirror_mode": {
    "name": "ipython",
    "version": 3
   },
   "file_extension": ".py",
   "mimetype": "text/x-python",
   "name": "python",
   "nbconvert_exporter": "python",
   "pygments_lexer": "ipython3",
   "version": "3.10.4"
  },
  "orig_nbformat": 4,
  "vscode": {
   "interpreter": {
    "hash": "4f946df053fbf2b937619d3c5458e7af74262f9a954d8797ba0b27400bcafe06"
   }
  }
 },
 "nbformat": 4,
 "nbformat_minor": 2
}